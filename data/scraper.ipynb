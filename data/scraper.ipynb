{
 "cells": [
  {
   "cell_type": "code",
   "execution_count": 5,
   "metadata": {},
   "outputs": [],
   "source": [
    "import data_scraper as ds"
   ]
  },
  {
   "cell_type": "code",
   "execution_count": 6,
   "metadata": {},
   "outputs": [
    {
     "ename": "TypeError",
     "evalue": "get_recipe_links() takes 0 positional arguments but 1 was given",
     "output_type": "error",
     "traceback": [
      "\u001b[1;31m---------------------------------------------------------------------------\u001b[0m",
      "\u001b[1;31mTypeError\u001b[0m                                 Traceback (most recent call last)",
      "\u001b[1;32mc:\\Users\\Aranan.wijayasooria\\Documents\\personal-projects\\budget-bytes-4-me\\data\\scraper.ipynb Cell 2\u001b[0m line \u001b[0;36m1\n\u001b[1;32m----> <a href='vscode-notebook-cell:/c%3A/Users/Aranan.wijayasooria/Documents/personal-projects/budget-bytes-4-me/data/scraper.ipynb#W1sZmlsZQ%3D%3D?line=0'>1</a>\u001b[0m ds\u001b[39m.\u001b[39;49mget_recipe_links(\u001b[39m3\u001b[39;49m)\n",
      "\u001b[1;31mTypeError\u001b[0m: get_recipe_links() takes 0 positional arguments but 1 was given"
     ]
    }
   ],
   "source": [
    "ds.get_recipe_links(no_of_pages=3)"
   ]
  }
 ],
 "metadata": {
  "kernelspec": {
   "display_name": "budget-bytes-4-me",
   "language": "python",
   "name": "python3"
  },
  "language_info": {
   "codemirror_mode": {
    "name": "ipython",
    "version": 3
   },
   "file_extension": ".py",
   "mimetype": "text/x-python",
   "name": "python",
   "nbconvert_exporter": "python",
   "pygments_lexer": "ipython3",
   "version": "3.12.1"
  },
  "orig_nbformat": 4
 },
 "nbformat": 4,
 "nbformat_minor": 2
}
